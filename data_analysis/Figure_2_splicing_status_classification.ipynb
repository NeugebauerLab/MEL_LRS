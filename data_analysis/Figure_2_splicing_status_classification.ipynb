{
 "cells": [
  {
   "cell_type": "code",
   "execution_count": 52,
   "metadata": {},
   "outputs": [
    {
     "data": {
      "text/plain": [
       "'\\nThis script categorizes the splicing status of each intron in long read data\\nAuthor: Kirsten Reimer\\nDate: 31 Mar 2020\\n'"
      ]
     },
     "execution_count": 52,
     "metadata": {},
     "output_type": "execute_result"
    }
   ],
   "source": [
    "'''\n",
    "This script categorizes the splicing status of each intron in long read data\n",
    "Author: Kirsten Reimer\n",
    "Date: 31 Mar 2020\n",
    "'''"
   ]
  },
  {
   "cell_type": "code",
   "execution_count": 1,
   "metadata": {},
   "outputs": [],
   "source": [
    "import os\n",
    "\n",
    "import numpy as np\n",
    "import pandas as pd\n",
    "from pandas.api.types import CategoricalDtype\n",
    "import mygene\n",
    "import itertools\n",
    "import scipy\n",
    "import pysam\n",
    "\n",
    "from plotnine import *\n",
    "import warnings\n",
    "warnings.filterwarnings('ignore')\n",
    "\n",
    "import matplotlib\n",
    "matplotlib.rcParams['pdf.fonttype'] = 42 # export pdfs with editable font types in Illustrator"
   ]
  },
  {
   "cell_type": "markdown",
   "metadata": {},
   "source": [
    "### Part 1: Classify reads based on entire intron coverage"
   ]
  },
  {
   "cell_type": "code",
   "execution_count": 26,
   "metadata": {},
   "outputs": [],
   "source": [
    "# Set links to intron annotation file in BED format and list of active TSSs (defined from PROseq data)\n",
    "all_introns = pd.read_csv('../annotation_files/mm10_VM20_introns.bed.gz', delimiter = '\\t', names =  ['chr', 'start', 'end', 'name', 'score', 'strand'], compression = 'gzip') # annotation of all mm10 introns in BED6 format, downloaded from USCS table browser\n",
    "active_TSS = pd.read_csv('../annotation_files/active_TSS_PROseq_150_counts_mm10_VM20.txt', delimiter = '\\t', header = 0)"
   ]
  },
  {
   "cell_type": "code",
   "execution_count": 27,
   "metadata": {},
   "outputs": [],
   "source": [
    "# # add a column for txid\n",
    "all_introns['txid'] = all_introns.name.str.split('_').str[0]"
   ]
  },
  {
   "cell_type": "code",
   "execution_count": 28,
   "metadata": {},
   "outputs": [
    {
     "name": "stdout",
     "output_type": "stream",
     "text": [
      "Number of actively transcribed genes in MEL = 13406\n"
     ]
    }
   ],
   "source": [
    "active_genes = active_TSS.groupby(['geneid'])\n",
    "print('Number of actively transcribed genes in MEL = ' + str(len(active_genes)))"
   ]
  },
  {
   "cell_type": "code",
   "execution_count": 31,
   "metadata": {},
   "outputs": [],
   "source": [
    "# Define a function to filter out introns that are not used in MEL cells according to PROseq data, i.e. introns that are upstream of active TSSs for each transcript ID\n",
    "def remove_unused_introns(TSS_file, intron_file):\n",
    "    \n",
    "    # First get the transcript with the outermost TSS for each gene ID\n",
    "    active_TSS_plus = TSS_file[TSS_file['strand'] == '+']\n",
    "    active_TSS_minus = TSS_file[TSS_file['strand'] == '-']\n",
    "    plus_outer = active_TSS_plus.loc[active_TSS_plus.groupby('geneid')['start'].idxmin()]\n",
    "    minus_outer = active_TSS_minus.loc[active_TSS_minus.groupby('geneid')['start'].idxmax()]\n",
    "\n",
    "    # Get transcript ID from intron ID and split introns by strand\n",
    "#     intron_file['txid'] = intron_file.name.str.split('_').str[0]\n",
    "    introns_plus = intron_file[intron_file['strand'] == '+']\n",
    "    introns_minus = intron_file[intron_file['strand'] == '-']\n",
    "    \n",
    "    # Join TSS dfs and intron dfs by transcript ID\n",
    "    joined_plus = pd.merge(introns_plus, plus_outer, left_on = 'txid', right_on = 'txname', how = 'left')\n",
    "    joined_minus = pd.merge(introns_minus, minus_outer, left_on = 'txid', right_on = 'txname', how = 'left')\n",
    "\n",
    "    # For each intron, check whether start is at or downstream of most active TSS\n",
    "    keep_plus = joined_plus[joined_plus['start_x'] >= joined_plus['start_y']]\n",
    "    keep_minus = joined_minus[joined_minus['start_x'] <= joined_minus['start_y']]\n",
    "    \n",
    "    joined = pd.concat([joined_plus, joined_minus])\n",
    "    keep = pd.concat([keep_plus, keep_minus])\n",
    "    return keep"
   ]
  },
  {
   "cell_type": "code",
   "execution_count": 33,
   "metadata": {},
   "outputs": [],
   "source": [
    "active_introns = remove_unused_introns(active_TSS, all_introns)\n",
    "active_introns = active_introns[['chr_x', 'start_x', 'end_x', 'name', 'score_x', 'strand_x']]\n",
    "active_introns.columns = ['chr', 'start', 'end', 'name', 'score', 'strand']"
   ]
  },
  {
   "cell_type": "code",
   "execution_count": 34,
   "metadata": {},
   "outputs": [
    {
     "name": "stdout",
     "output_type": "stream",
     "text": [
      "Total number of introns is: 679794\n",
      "Number of unique introns is: 281786\n"
     ]
    }
   ],
   "source": [
    "# create a file of unique introns for later use\n",
    "all_introns['start'] = all_introns['start'].astype(str)\n",
    "all_introns['end'] = all_introns['end'].astype(str)\n",
    "\n",
    "all_introns['ID'] = all_introns.chr.str.cat(all_introns.start,sep=\"_\")\n",
    "all_introns['ID'] = all_introns.ID.str.cat(all_introns.end,sep=\"_\")\n",
    "all_introns['ID'] = all_introns.ID.str.cat(all_introns.strand,sep=\"_\")\n",
    "all_introns['ID'] = all_introns['ID'].str.strip()\n",
    "\n",
    "# drop duplicate intron coordinates\n",
    "all_introns_unique = all_introns.drop_duplicates(subset = 'ID', keep = 'first')\n",
    "\n",
    "print('Total number of introns is: ' + str(len(all_introns.index)))\n",
    "print('Number of unique introns is: ' + str(len(all_introns_unique.index)))\n",
    "\n",
    "# save unique introns with correct coordinates for downstream use\n",
    "all_introns_unique.to_csv('../annotation_files/mm10_VM20_introns_unique.bed', \n",
    "               sep = '\\t', \n",
    "               index = False,\n",
    "               columns = ['chr', 'start', 'end', 'name', 'score', 'strand'], \n",
    "               header = False)"
   ]
  },
  {
   "cell_type": "code",
   "execution_count": 35,
   "metadata": {},
   "outputs": [
    {
     "name": "stdout",
     "output_type": "stream",
     "text": [
      "Total number of introns from active transcripts is: 91583\n",
      "Number of unique introns from active transcripts is: 91340\n"
     ]
    }
   ],
   "source": [
    "# create a unique ID string for each intron coordinate\n",
    "active_introns['start'] = active_introns['start'].astype(str)\n",
    "active_introns['end'] = active_introns['end'].astype(str)\n",
    "\n",
    "active_introns['ID'] = active_introns.chr.str.cat(active_introns.start,sep=\"_\")\n",
    "active_introns['ID'] = active_introns.ID.str.cat(active_introns.end,sep=\"_\")\n",
    "active_introns['ID'] = active_introns.ID.str.cat(active_introns.strand,sep=\"_\")\n",
    "active_introns['ID'] = active_introns['ID'].str.strip()\n",
    "\n",
    "# drop duplicate intron coordinates\n",
    "active_introns_unique = active_introns.drop_duplicates(subset = 'ID', keep = 'first')\n",
    "\n",
    "print('Total number of introns from active transcripts is: ' + str(len(active_introns.index)))\n",
    "print('Number of unique introns from active transcripts is: ' + str(len(active_introns_unique.index)))\n",
    "\n",
    "# save unique introns with correct coordinates for downstream use\n",
    "active_introns_unique.to_csv('../annotation_files/mm10_VM20_active_introns_unique_real_coordinates.bed', \n",
    "               sep = '\\t', \n",
    "               index = False,\n",
    "               columns = ['chr', 'start', 'end', 'name', 'score', 'strand'], \n",
    "               header = False)"
   ]
  },
  {
   "cell_type": "code",
   "execution_count": 36,
   "metadata": {},
   "outputs": [],
   "source": [
    "# add 1 nucleotide to the start and end of each intron coordinate\n",
    "active_introns_unique['windowStart'] = (active_introns_unique['start'].astype('int')) - 1\n",
    "active_introns_unique['windowEnd'] = (active_introns_unique['end'].astype('int')) + 1"
   ]
  },
  {
   "cell_type": "code",
   "execution_count": 37,
   "metadata": {},
   "outputs": [],
   "source": [
    "# Save unique introns to file for bedtool intersect\n",
    "active_unique_introns_filename = \"mm10_VM20_introns_unique.bed\"\n",
    "active_introns_unique.to_csv(active_unique_introns_filename, \n",
    "               sep = '\\t', \n",
    "               index = False, \n",
    "               columns = ['chr', 'windowStart', 'windowEnd', 'name', 'score', 'strand'], \n",
    "               header = False)"
   ]
  },
  {
   "cell_type": "code",
   "execution_count": 11,
   "metadata": {},
   "outputs": [],
   "source": [
    "# Bedtools intersect to get information about which intron windows each read intersects\n",
    "### THIS IS NOT WORKING WITH PYBEDTOOLS IN THE JUPYTER NOTEBOOK FOR SOME REASON, RUN THESE COMMANDS IN TERMINAL ###\n",
    "\n",
    "##########################################################################################################################################################################################  \n",
    "# bedtools intersect -a ../1_filter_data/1_untreated_RSII_polyAfiltered_no_7SK_sorted_unique.bed -b mm10_VM20_introns_unique.bed -split -F 1 -s -wo > 1_untreated_RSII_intersect.bed\n",
    "# bedtools intersect -a ../1_filter_data/1_untreated_SQ_polyAfiltered_no_7SK_sorted_unique.bed -b mm10_VM20_introns_unique.bed -split -F 1 -s -wo > 1_untreated_SQ_intersect.bed\n",
    "# bedtools intersect -a ../1_filter_data/2_untreated_RSII_polyAfiltered_no_7SK_sorted_unique.bed -b mm10_VM20_introns_unique.bed -split -F 1 -s -wo > 2_untreated_RSII_intersect.bed\n",
    "# bedtools intersect -a ../1_filter_data/2_untreated_SQ_polyAfiltered_no_7SK_sorted_unique.bed -b mm10_VM20_introns_unique.bed -split -F 1 -s -wo > 2_untreated_SQ_intersect.bed\n",
    "# bedtools intersect -a ../1_filter_data/3_DMSO_RSII_polyAfiltered_no_7SK_sorted_unique.bed -b mm10_VM20_introns_unique.bed -split -F 1 -s -wo > 3_DMSO_RSII_intersect.bed\n",
    "# bedtools intersect -a ../1_filter_data/3_DMSO_SQ_polyAfiltered_no_7SK_sorted_unique.bed -b mm10_VM20_introns_unique.bed -split -F 1 -s -wo > 3_DMSO_SQ_intersect.bed\n",
    "# bedtools intersect -a ../1_filter_data/4_DMSO_RSII_polyAfiltered_no_7SK_sorted_unique.bed -b mm10_VM20_introns_unique.bed -split -F 1 -s -wo > 4_DMSO_RSII_intersect.bed\n",
    "# bedtools intersect -a ../1_filter_data/4_DMSO_SQ_polyAfiltered_no_7SK_sorted_unique.bed -b mm10_VM20_introns_unique.bed -split -F 1 -s -wo > 4_DMSO_SQ_intersect.bed\n",
    "##########################################################################################################################################################################################  "
   ]
  },
  {
   "cell_type": "code",
   "execution_count": 38,
   "metadata": {},
   "outputs": [],
   "source": [
    "# Enter list of intersect files that were created in the above cell (from terminal bedtools command)\n",
    "\n",
    "intersectFiles = ['1_untreated_RSII_intersect.bed',\n",
    "                  '1_untreated_SQ_intersect.bed',\n",
    "                  '2_untreated_RSII_intersect.bed',\n",
    "                  '2_untreated_SQ_intersect.bed',\n",
    "                  '3_DMSO_RSII_intersect.bed',\n",
    "                  '3_DMSO_SQ_intersect.bed',\n",
    "                  '4_DMSO_RSII_intersect.bed',\n",
    "                  '4_DMSO_SQ_intersect.bed']"
   ]
  },
  {
   "cell_type": "code",
   "execution_count": 39,
   "metadata": {},
   "outputs": [],
   "source": [
    "def get_splicing_status_full_intron(intersect_bedfile):\n",
    "    \n",
    "    filestring = intersect_bedfile.split('/')[-1].split('_')[0:3] # get sample ID from file name\n",
    "    sample = '_'.join(filestring) \n",
    "    \n",
    "    f = open(intersect_bedfile)\n",
    "    \n",
    "    result = [] # generate empty list for each row to be written to\n",
    "    cols = ['r_chr', 'r_start', 'r_end', 'r_name', 'r_score', 'r_strand', 'readStart', 'readEnd', 'r_rgb', 'r_blocks', 'r_blockSizes', 'r_blockStarts', 'i_chr', 'i_start', 'i_end', 'i_name', 'i_score', 'i_strand', 'overlaps', 'sample', 'spliced_exact', 'unspliced', 'spliced_half', 'false_count'] # output column names\n",
    "    \n",
    "    for line in f:\n",
    "        col = line.rstrip().split(\"\\t\")\n",
    "        int_coord1 = col[13] \n",
    "        int_coord2 = col[14]\n",
    "        intron = ((int(int_coord1)+1), (int(int_coord2)-1)) # create a pair of the intron coordinates\n",
    "\n",
    "        readStart = col[1]\n",
    "        readEnd = col[2]\n",
    "        blockStarts = col[11].split(\",\")\n",
    "        blockSizes = col[10].split(\",\")\n",
    "\n",
    "        n = int(col[9]) # get number of blocks to use as counter\n",
    "        junclist = [] # create an empty list for coordinates of junctions in each read\n",
    "\n",
    "        # to make a search window around the intron annotation to check if a ready is really unspliced or spliced to a neighboring intron \n",
    "        false_count = 0 #false_count to be used for if statments below \n",
    "        intron_range0A = range(intron[0]-10,intron[0])\n",
    "        intron_range0B = range(intron[0],intron[0]+10)\n",
    "        intron_range1A = range(intron[1]-10,intron[1])\n",
    "        intron_range1B = range(intron[1],intron[1]+10) \n",
    "\n",
    "        for i in range(1,n):\n",
    "            juncStart = int(readStart) + int(blockSizes[i-1]) + int(blockStarts[i-1])\n",
    "            juncEnd = int(readStart) + int(blockStarts[i])\n",
    "            junc = (juncStart,juncEnd)\n",
    "            junclist.append(junc) # add each junction to a list of junctions in the read \n",
    "\n",
    "            # if the junction annotation is within a window of the search window, false_count = 1. The long-read will not be counted as unspliced\n",
    "            if junc[0] in intron_range0A:\n",
    "                false_count = 1 \n",
    "            elif junc[0] in intron_range0B: \n",
    "                false_count = 1\n",
    "            elif junc[0] in intron_range1A: \n",
    "                false_count = 1\n",
    "            elif junc[0] in intron_range1B: \n",
    "                false_count = 1\n",
    "            elif junc[1] in intron_range0A:\n",
    "                false_count = 1 \n",
    "            elif junc[1] in intron_range0B: \n",
    "                false_count = 1\n",
    "            elif junc[1] in intron_range1A: \n",
    "                false_count = 1\n",
    "            elif junc[1] in intron_range1B: \n",
    "                false_count = 1\n",
    "\n",
    "\n",
    "        if intron in junclist: # look for both exact intron coordinates in list of junctions in the read\n",
    "            spliced_exact = 1\n",
    "            spliced_half = 0\n",
    "            unspliced = 0\n",
    "            false_count = 0\n",
    "\n",
    "        elif intron[0] in (i[0] for i in junclist): # look for first intron coordinate in list of first junctions in the read\n",
    "            spliced_exact = 0\n",
    "            spliced_half = 1\n",
    "            unspliced = 0\n",
    "            false_count = 0\n",
    "\n",
    "        elif intron[1] in (i[0] for i in junclist): # look for second intron coordinate in list of second junctions in the read\n",
    "            spliced_exact = 0\n",
    "            spliced_half = 1\n",
    "            unspliced = 0\n",
    "            false_count = 0\n",
    "\n",
    "        elif false_count == 1: # if the junction is found within a window, dis-regard the long read \n",
    "            spliced_exact = 0\n",
    "            spliced_half = 0\n",
    "            lf = 0\n",
    "            unspliced = 0\n",
    "            false_count = 1\n",
    "\n",
    "        else:\n",
    "            spliced_exact = 0\n",
    "            spliced_half = 0\n",
    "            unspliced = 1\n",
    "            false_count = 0\n",
    "            \n",
    "        result.append([col[0], col[1], col[2], col[3], col[4], col[5], col[6], col[7], col[8], col[9], col[10], col[11], col[12], col[13], col[14], col[15], col[16], col[17], col[18], sample, spliced_exact, unspliced, spliced_half, false_count])\n",
    "        \n",
    "    df = pd.DataFrame(result, columns=cols)\n",
    "    \n",
    "    return df"
   ]
  },
  {
   "cell_type": "markdown",
   "metadata": {},
   "source": [
    "### Part 2: Classify reads based on 3'SS coverage"
   ]
  },
  {
   "cell_type": "code",
   "execution_count": 40,
   "metadata": {},
   "outputs": [],
   "source": [
    "# Set parameters for 3SS window cutoff value\n",
    "\n",
    "window = 35 # distance upstream of 3SS to consider in splicing status classification\n",
    "introns_3ss = active_introns.drop(columns = ['ID'])\n",
    "introns_3ss.reset_index(inplace = True)"
   ]
  },
  {
   "cell_type": "code",
   "execution_count": 41,
   "metadata": {},
   "outputs": [],
   "source": [
    "# generate a table with windows of 3SS coordinates using window distance\n",
    "# first assign 3SS and 5SS based on strand\n",
    "introns_3ss.loc[introns_3ss['strand'] == '+', 'threeSS'] = introns_3ss['end']\n",
    "introns_3ss.loc[introns_3ss['strand'] == '-', 'threeSS'] = introns_3ss['start']\n",
    "introns_3ss.loc[introns_3ss['strand'] == '+', 'fiveSS'] = introns_3ss['start']\n",
    "introns_3ss.loc[introns_3ss['strand'] == '-', 'fiveSS'] = introns_3ss['end']\n",
    "\n",
    "# convert coordinates back to integer values\n",
    "introns_3ss['threeSS'] = introns_3ss['threeSS'].astype(np.int64)\n",
    "introns_3ss['fiveSS'] = introns_3ss['fiveSS'].astype(np.int64)\n",
    "introns_3ss['start'] = introns_3ss['start'].astype(np.int64)\n",
    "\n",
    "# make a window around 3SS using defined window length\n",
    "introns_3ss.loc[introns_3ss['strand'] == '+', 'windowStart'] = (introns_3ss['threeSS'] - window)\n",
    "introns_3ss.loc[introns_3ss['strand'] == '-', 'windowStart'] = (introns_3ss['threeSS'] - 1)\n",
    "introns_3ss.loc[introns_3ss['strand'] == '+', 'windowEnd'] = (introns_3ss['threeSS'] + 1)\n",
    "introns_3ss.loc[introns_3ss['strand'] == '-', 'windowEnd'] = (introns_3ss['start'] + window)\n",
    "\n",
    "# return window start and end coordinates to intergers rather than floats\n",
    "introns_3ss['windowStart'] = introns_3ss['windowStart'].astype(np.int64)\n",
    "introns_3ss['windowEnd'] = introns_3ss['windowEnd'].astype(np.int64)"
   ]
  },
  {
   "cell_type": "code",
   "execution_count": 42,
   "metadata": {},
   "outputs": [],
   "source": [
    "# create a unique ID string for each 3'SS genomic coordinate\n",
    "introns_3ss['threeSS'] = introns_3ss['threeSS'].astype('str')\n",
    "\n",
    "introns_3ss['ID'] = introns_3ss.chr.str.cat(introns_3ss.threeSS,sep=\"_\")\n",
    "introns_3ss['ID'] = introns_3ss.ID.str.cat(introns_3ss.strand,sep=\"_\")\n",
    "introns_3ss['ID'] = introns_3ss['ID'].str.strip()"
   ]
  },
  {
   "cell_type": "code",
   "execution_count": 43,
   "metadata": {},
   "outputs": [
    {
     "name": "stdout",
     "output_type": "stream",
     "text": [
      "Total number of active introns is: 91583\n",
      "Number of active unique 3SS is: 91295\n"
     ]
    }
   ],
   "source": [
    "# collapse to keep only unique 3SSs, but keep the original end coordinate (5SS) and intron name for duplicate 3SSs\n",
    "# introns_unique = introns.groupby(['ID'], as_index = False).agg(lambda x: ','.join(dict.fromkeys(x.astype(str))))\n",
    "\n",
    "\n",
    "# collapse to keep only one intron per unique 3SS - the first intron ID will be kept, not necessarily the correct intron, but will be used for counting purposes\n",
    "introns_unique_3SS = introns_3ss.drop_duplicates(subset = 'ID', keep = 'first')\n",
    "\n",
    "print('Total number of active introns is: ' + str(len(introns_3ss.index)))\n",
    "print('Number of active unique 3SS is: ' + str(len(introns_unique_3SS.index)))"
   ]
  },
  {
   "cell_type": "code",
   "execution_count": 44,
   "metadata": {},
   "outputs": [],
   "source": [
    "# save introns file in BED6 format\n",
    "intron_window_filename = \"mm10_introns_{window}_bp_window.bed\".format(**locals()) # save filename with window as specified above\n",
    "# introns_unique['windowStart'] = introns_unique['windowStart'].astype(int)\n",
    "# introns_unique['windowEnd'] = introns_unique['windowEnd'].astype(int)\n",
    "introns_unique_3SS.to_csv(intron_window_filename, \n",
    "               sep = '\\t', \n",
    "               index = False, \n",
    "               columns = ['chr', 'windowStart', 'windowEnd', 'name', 'score', 'strand'], \n",
    "               header = False)"
   ]
  },
  {
   "cell_type": "code",
   "execution_count": 19,
   "metadata": {},
   "outputs": [],
   "source": [
    "# Bedtools intersect to get information about which intron windows each read intersects\n",
    "### THIS IS NOT WORKING WITH PYBEDTOOLS IN THE JUPYTER NOTEBOOK FOR SOME REASON, RUN THESE COMMANDS IN TERMINAL ###\n",
    "\n",
    "########################################################################################################################################################################################## \n",
    "# bedtools intersect -a ../1_filter_data/1_untreated_RSII_polyAfiltered_no_7SK_sorted_unique.bed -b mm10_introns_35_bp_window.bed -split -s -wo > 1_untreated_RSII_3SS_intersect.bed\n",
    "# bedtools intersect -a ../1_filter_data/1_untreated_SQ_polyAfiltered_no_7SK_sorted_unique.bed -b mm10_introns_35_bp_window.bed -split -s -wo > 1_untreated_SQ_3SS_intersect.bed\n",
    "# bedtools intersect -a ../1_filter_data/2_untreated_RSII_polyAfiltered_no_7SK_sorted_unique.bed -b mm10_introns_35_bp_window.bed -split -s -wo > 2_untreated_RSII_3SS_intersect.bed\n",
    "# bedtools intersect -a ../1_filter_data/2_untreated_SQ_polyAfiltered_no_7SK_sorted_unique.bed -b mm10_introns_35_bp_window.bed -split -s -wo > 2_untreated_SQ_3SS_intersect.bed\n",
    "# bedtools intersect -a ../1_filter_data/3_DMSO_RSII_polyAfiltered_no_7SK_sorted_unique.bed -b mm10_introns_35_bp_window.bed -split -s -wo > 3_DMSO_RSII_3SS_intersect.bed\n",
    "# bedtools intersect -a ../1_filter_data/3_DMSO_SQ_polyAfiltered_no_7SK_sorted_unique.bed -b mm10_introns_35_bp_window.bed -split -s -wo > 3_DMSO_SQ_3SS_intersect.bed\n",
    "# bedtools intersect -a ../1_filter_data/4_DMSO_RSII_polyAfiltered_no_7SK_sorted_unique.bed -b mm10_introns_35_bp_window.bed -split -s -wo > 4_DMSO_RSII_3SS_intersect.bed\n",
    "# bedtools intersect -a ../1_filter_data/4_DMSO_SQ_polyAfiltered_no_7SK_sorted_unique.bed -b mm10_introns_35_bp_window.bed -split -s -wo > 4_DMSO_SQ_3SS_intersect.bed\n",
    "########################################################################################################################################################################################## "
   ]
  },
  {
   "cell_type": "code",
   "execution_count": 45,
   "metadata": {},
   "outputs": [],
   "source": [
    "# Enter list of intersect files that were created in the above cell (from terminal bedtools command)\n",
    "\n",
    "intersect3SSFiles = ['1_untreated_RSII_3SS_intersect.bed',\n",
    "                    '1_untreated_SQ_3SS_intersect.bed',\n",
    "                    '2_untreated_RSII_3SS_intersect.bed',\n",
    "                    '2_untreated_SQ_3SS_intersect.bed',\n",
    "                    '3_DMSO_RSII_3SS_intersect.bed',\n",
    "                    '3_DMSO_SQ_3SS_intersect.bed',\n",
    "                    '4_DMSO_RSII_3SS_intersect.bed',\n",
    "                    '4_DMSO_SQ_3SS_intersect.bed']"
   ]
  },
  {
   "cell_type": "code",
   "execution_count": 46,
   "metadata": {},
   "outputs": [],
   "source": [
    "# Define a function that classifies each intron-overlapping region of a read as spliced or unspliced\n",
    " \n",
    "def get_splicing_status_3SS(intersect_3SS_bedfile):\n",
    "    \n",
    "    filestring = intersect_3SS_bedfile.split('/')[-1].split('_')[0:3] # get sample ID from file name\n",
    "    sample = '_'.join(filestring) \n",
    "    \n",
    "    f = open(intersect_3SS_bedfile)\n",
    "    \n",
    "    result = [] # generate empty list for each row to be written to\n",
    "    cols = ['r_chr', 'r_start', 'r_end', 'r_name', 'r_score', 'r_strand', 'readStart', 'readEnd', 'r_rgb', 'r_blocks', 'r_blockSizes', 'r_blockStarts', 'w_chr', 'w_start', 'w_end', 'i_name', 'i_score', 'i_strand', 'overlaps', 'sample', 'spliced', 'unspliced', 'NA'] # output column names\n",
    "    \n",
    "    for line in f:\n",
    "        col = line.rstrip().split(\"\\t\")\n",
    "        strand = col[5]\n",
    "        if strand == '+':\n",
    "            threeSS = int(col[14]) - 1\n",
    "        if strand == '-':\n",
    "            threeSS = int(col[13]) + 1\n",
    "\n",
    "        readStart = int(col[6])\n",
    "        readEnd = int(col[7])\n",
    "        blockStarts = col[11].split(\",\")\n",
    "        blockSizes = col[10].split(\",\")\n",
    "\n",
    "        n = int(col[9]) # get number of blocks to use as counter\n",
    "        SSlist = []\n",
    "\n",
    "        for i in range(1,n):\n",
    "            juncStart = readStart + int(blockSizes[i-1]) + int(blockStarts[i-1])\n",
    "            juncEnd = readStart + int(blockStarts[i])\n",
    "\n",
    "            # create a list of 3SS coordinates for each read\n",
    "            if strand == '+':\n",
    "                SSlist.append(juncEnd)\n",
    "            if strand == '-':\n",
    "                SSlist.append(juncStart)\n",
    "\n",
    "        if threeSS not in range(readStart, readEnd): # flag reads where read may overlap in the window before 3SS but does not fully cross 3SS\n",
    "            spliced = 0\n",
    "            unspliced = 0\n",
    "            NA = 1\n",
    "\n",
    "        elif threeSS in SSlist: # look for intron 3SS coordinate in list of 3SS junctions in the read\n",
    "            spliced = 1\n",
    "            unspliced = 0\n",
    "            NA = 0\n",
    "\n",
    "    #     elif range(int(threeSS) - 10, int(threeSS) + 10) in SSlist:\n",
    "    #         status = \"spliced_alt\"\n",
    "\n",
    "        else:\n",
    "            spliced = 0\n",
    "            unspliced = 1\n",
    "            NA = 0\n",
    "\n",
    "        result.append([col[0], col[1], col[2], col[3], col[4], col[5], col[6], col[7], col[8], col[9], col[10], col[11], col[12], col[13], col[14], col[15], col[16], col[17], col[18], sample, spliced, unspliced, NA])\n",
    "        \n",
    "    df_all = pd.DataFrame(result, columns=cols)\n",
    "    df_unspliced = df_all.loc[df_all['unspliced'] == 1]\n",
    "    \n",
    "    return df_unspliced"
   ]
  },
  {
   "cell_type": "markdown",
   "metadata": {},
   "source": [
    "### Part 3: Combine splicing classification and group results"
   ]
  },
  {
   "cell_type": "code",
   "execution_count": 47,
   "metadata": {},
   "outputs": [],
   "source": [
    "# Get splicing status based on entire intron intersect and report output in a combined dataframe\n",
    "\n",
    "df_intron_list = []\n",
    "for file in intersectFiles:\n",
    "#     df_list.append(group_by_read(get_splicing_status_full_intron(file)))\n",
    "    df_intron_list.append(get_splicing_status_full_intron(file))\n",
    "\n",
    "# Get splicing status based on 3SS intersect and report output in a combined dataframe\n",
    "df_3SS_list = []\n",
    "for file in intersect3SSFiles:\n",
    "#     df_list.append(group_by_read(get_splicing_status_full_intron(file)))\n",
    "    df_3SS_list.append(get_splicing_status_3SS(file))"
   ]
  },
  {
   "cell_type": "code",
   "execution_count": 48,
   "metadata": {},
   "outputs": [],
   "source": [
    "# Add unspliced counts from 3SS classification to counts from entire intron classification\n",
    "\n",
    "# First rearrange 3SS datafreame so column names are the same, set extra count columns to 0\n",
    "\n",
    "for df in df_3SS_list:\n",
    "    df.columns = ['r_chr', 'r_start', 'r_end', 'r_name', 'r_score', 'r_strand', 'readStart', 'readEnd', 'r_rgb', 'r_blocks', 'r_blockSizes', 'r_blockStarts', 'i_chr', 'i_start', 'i_end', 'i_name', 'i_score', 'i_strand', 'overlaps', 'sample', 'spliced_exact', 'unspliced', 'spliced_half']\n",
    "    df['false_count'] = 0\n",
    "\n",
    "# Concatenate dataframes and then remove any duplicated unspliced counts between the two\n",
    "combined_df = []\n",
    "for (df_intron, df_3SS) in zip(df_intron_list, df_3SS_list): \n",
    "    combined = pd.concat([df_intron, df_3SS])\n",
    "    combined_nodup = combined.drop_duplicates(subset = ['r_name', 'i_name', 'unspliced'], keep = 'first')\n",
    "    combined_df.append(combined_nodup)"
   ]
  },
  {
   "cell_type": "code",
   "execution_count": 49,
   "metadata": {},
   "outputs": [],
   "source": [
    "### For PRO-seq to calculate intron splicing efficiencies ###\n",
    "# combine splicing counts from the two methods for PRO-seq analysis of intron splicing efficiencies: apply unspliced counts from 3SS classification to ALL introns that have that 3SS, then the most used intron coordinates are further filtered during PRO-seq analysis\n",
    "\n",
    "proseq_3ss = pd.concat(df_3SS_list)\n",
    "proseq_intron = pd.concat(df_intron_list)\n",
    "\n",
    "# First group whole intron results by intron name (and by samples) and sum spliced and unspliced counts\n",
    "whole_intron = proseq_intron.groupby(['i_name', 'sample']).agg({\n",
    "    'i_chr':'first',\n",
    "    'i_start': 'first',\n",
    "    'i_end':'first',\n",
    "#     'i_name':'first',\n",
    "    'i_score':'first',\n",
    "    'i_strand':'first',\n",
    "    'spliced_exact':'sum',\n",
    "    'unspliced':'sum'\n",
    "})\n",
    "\n",
    "# do the same grouping for just the 3SS counts\n",
    "just_3ss = proseq_3ss.groupby(['i_name', 'sample']).agg({\n",
    "    'i_chr':'first',\n",
    "    'i_start': 'first',\n",
    "    'i_end':'first',\n",
    "#     'i_name':'first',\n",
    "    'i_score':'first',\n",
    "    'i_strand':'first',\n",
    "    'spliced_exact':'sum',\n",
    "    'unspliced':'sum'\n",
    "})\n",
    "\n",
    "# Assign 3SS coordinate based on strand\n",
    "just_3ss = just_3ss.reset_index()\n",
    "just_3ss.loc[just_3ss['i_strand'] == '+', 'threeSS'] = (just_3ss['i_end']).astype(float) - 1\n",
    "just_3ss.loc[just_3ss['i_strand'] == '-', 'threeSS'] = (just_3ss['i_start']).astype(float) + 1\n",
    "\n",
    "whole_intron = whole_intron.reset_index()\n",
    "whole_intron.loc[whole_intron['i_strand'] == '+', 'threeSS'] = (whole_intron['i_end']).astype(float) - 1\n",
    "whole_intron.loc[whole_intron['i_strand'] == '-', 'threeSS'] = (whole_intron['i_start']).astype(float) + 1\n",
    "\n",
    "# convert coordinates back to integer values\n",
    "just_3ss['threeSS'] = just_3ss['threeSS'].astype(np.int64)\n",
    "whole_intron['threeSS'] = whole_intron['threeSS'].astype(np.int64)\n",
    "\n",
    "# make an ID column in each df with actual 3SS coordinates\n",
    "just_3ss['threeSS'] = just_3ss['threeSS'].astype('str')\n",
    "just_3ss['ID'] = just_3ss.i_chr.str.cat(just_3ss.threeSS,sep=\"_\")\n",
    "just_3ss['ID'] = just_3ss.ID.str.cat(just_3ss.i_strand,sep=\"_\")\n",
    "just_3ss['ID'] = just_3ss['ID'].str.strip()\n",
    "\n",
    "whole_intron['threeSS'] = whole_intron['threeSS'].astype('str')\n",
    "whole_intron['ID'] = whole_intron.i_chr.str.cat(whole_intron.threeSS,sep=\"_\")\n",
    "whole_intron['ID'] = whole_intron.ID.str.cat(whole_intron.i_strand,sep=\"_\")\n",
    "whole_intron['ID'] = whole_intron['ID'].str.strip()\n",
    "\n",
    "# group just_3ss by 3'SS ID and sum unspliced counts per sample\n",
    "grouped_3ss = just_3ss.groupby(['ID', 'sample']).sum()['unspliced']\n",
    "# merge unspliced 3SS counts onto intron counts\n",
    "merged = pd.merge(whole_intron, grouped_3ss, how = 'left', left_on = ['ID', 'sample'], right_on = ['ID', 'sample'])\n",
    "merged['unspliced_y'].fillna(0, inplace = True)\n",
    "merged['merged_unspliced'] = merged['unspliced_x'] + merged['unspliced_y']\n",
    "\n",
    "output_cols = ['i_chr', 'i_start', 'i_end', 'i_name', 'i_score', 'i_strand', 'spliced_exact', 'merged_unspliced', 'sample']\n",
    "proseq_output = merged[output_cols]\n",
    "proseq_output.to_csv('intron_splicing_counts_for_PROseq_classification.txt', \n",
    "               sep = '\\t', \n",
    "               index = False,\n",
    "               header = True)"
   ]
  },
  {
   "cell_type": "code",
   "execution_count": 50,
   "metadata": {},
   "outputs": [],
   "source": [
    "# Define a function to group the output of get_splicing_status by readname and assign splicing status per read (all/partial/none)\n",
    "\n",
    "def group_by_read(df):    \n",
    "    \n",
    "# Group by read name and sum spliced/unspliced counts\n",
    "    counts_summed = df.groupby(['r_name']).agg({\n",
    "                                                          \"r_chr\" : [\"first\"],\n",
    "                                                          \"r_start\" : [\"first\"],\n",
    "                                                          \"r_end\" : [\"first\"],\n",
    "                                                          \"r_name\" : [\"first\"],\n",
    "                                                          \"r_score\" : [\"first\"], \n",
    "                                                          \"r_strand\" : [\"first\"],\n",
    "                                                          \"r_rgb\" : [\"first\"],\n",
    "                                                          \"r_blocks\" : [\"first\"],\n",
    "                                                          \"r_blockSizes\" : [\"first\"],\n",
    "                                                          \"r_blockStarts\" : [\"first\"],\n",
    "                                                          \"i_chr\" : [\"first\"],\n",
    "                                                          \"i_start\" : [\"first\"],\n",
    "                                                          \"i_end\" : [\"first\"],\n",
    "                                                          \"i_name\" : [\"first\"],\n",
    "                                                          \"i_score\" : [\"first\"], \n",
    "                                                          \"i_strand\" : [\"first\"],\n",
    "                                                          \"sample\" : [\"first\"],\n",
    "                                                          \"spliced_exact\" : [\"sum\"],\n",
    "                                                          \"unspliced\" : [\"sum\"],\n",
    "                                                          \"spliced_half\" : [\"sum\"], \n",
    "                                                          \"false_count\" : [\"sum\"]\n",
    "                                                          })\n",
    "    \n",
    "    \n",
    "    counts_summed['total'] = counts_summed['spliced_exact'] + counts_summed['unspliced'] # count number of introns considered in each read\n",
    "    counts_summed.columns = ['r_chr', 'r_start', 'r_end', 'r_name', 'r_score', 'r_strand', 'r_rgb', 'r_blocks', 'r_blockSizes', 'r_blockStarts', 'i_chr', 'i_start', 'i_end', 'i_name', 'i_score', 'i_strand', 'sample', 'spliced_exact', 'unspliced', 'spliced_half', 'false_count', 'total'] # output column names\n",
    "\n",
    "    \n",
    "    def assign_status(df): # assign an overall splicing status to each read based on number of spliced and unspliced\n",
    "\n",
    "        if (df['total'] == df['spliced_exact']):\n",
    "            return 'all_spliced'\n",
    "        elif (df['total'] == df['unspliced']):\n",
    "            return 'all_unspliced'\n",
    "        else:\n",
    "            return 'partially_spliced'\n",
    "\n",
    "    counts_summed['status'] = counts_summed.apply(assign_status, axis = 1)\n",
    "\n",
    "    return counts_summed"
   ]
  },
  {
   "cell_type": "code",
   "execution_count": 51,
   "metadata": {},
   "outputs": [],
   "source": [
    "# Define a function to group the output of get_splicing_status by gene and calculate a coSE value\n",
    "\n",
    "def group_by_gene(df):\n",
    "    \n",
    "    # add a new column that gets the transcript ID from the intron ID\n",
    "    df['txid'] = df.i_name.str.split('.').str[0] \n",
    "    \n",
    "    # group reads by transcript first (this reduces the number of mapping to gene ID queries which are slow)\n",
    "    df_g = df.groupby(['txid']).agg({\n",
    "                                                          \"r_chr\" : [\"first\"],\n",
    "                                                          \"r_start\" : [\"first\"],\n",
    "                                                          \"r_end\" : [\"first\"],\n",
    "                                                          \"r_name\" : [\"count\"],\n",
    "                                                          \"r_score\" : [\"first\"], \n",
    "                                                          \"r_strand\" : [\"first\"],\n",
    "                                                          \"r_rgb\" : [\"first\"],\n",
    "                                                          \"r_blocks\" : [\"first\"],\n",
    "                                                          \"r_blockSizes\" : [\"first\"],\n",
    "                                                          \"r_blockStarts\" : [\"first\"],\n",
    "                                                          \"i_chr\" : [\"first\"],\n",
    "                                                          \"i_start\" : [\"first\"],\n",
    "                                                          \"i_end\" : [\"first\"],\n",
    "                                                          \"i_name\" : [\"first\"],\n",
    "                                                          \"i_score\" : [\"first\"], \n",
    "                                                          \"i_strand\" : [\"first\"],\n",
    "                                                          \"sample\" : [\"first\"],\n",
    "                                                          \"spliced_exact\" : [\"sum\"],\n",
    "                                                          \"unspliced\" : [\"sum\"],\n",
    "                                                          \"spliced_half\" : [\"sum\"], \n",
    "                                                          \"false_count\" : [\"sum\"],\n",
    "                                                          \"txid\" : [\"first\"]\n",
    "                                                          })\n",
    "    \n",
    "    df_g.columns = ['r_chr', 'r_start', 'r_end', 'r_name', 'r_score', 'r_strand', 'r_rgb', 'r_blocks', 'r_blockSizes', 'r_blockStarts', 'i_chr', 'i_start', 'i_end', 'i_name', 'i_score', 'i_strand', 'sample', 'spliced_exact', 'unspliced', 'spliced_half', 'false_count', 'txid'] # output column names\n",
    "        \n",
    "    # use mygene module to map each transcript ID to an ensembl gene ID\n",
    "    query = df_g['txid'].drop_duplicates() # get a list of txid's from data so we are not looking up duplicates unneccessarily\n",
    "\n",
    "    mg = mygene.MyGeneInfo()\n",
    "    tx2gene = mg.querymany(query, scopes = 'ensembl.transcript', fields=['ensembl.gene', 'symbol'], as_dataframe=True)\n",
    "   \n",
    "    # merge tx2gene df with data df to map transcript ID to gene ID (note: mg call returns a 1:1 dataframe)\n",
    "    with_geneid = pd.merge(df_g, tx2gene, left_index = True, right_index = True, how = 'inner')\n",
    "    \n",
    "    # Group dataframe by ensembl gene id\n",
    "    result = with_geneid.groupby('ensembl.gene').agg({\"r_name\" : [\"first\"],\n",
    "                                                      \"sample\" : [\"first\"],\n",
    "                                                      \"spliced_exact\" : [\"sum\"],\n",
    "                                                      \"unspliced\" : [\"sum\"],\n",
    "                                                      \"symbol\" : [\"first\"]\n",
    "                                                          })\n",
    "    # calculate coSE value (spliced/(spliced + unspliced))\n",
    "    result['coSE'] = result['spliced_exact']/(result['spliced_exact'] + result['unspliced'])\n",
    "    \n",
    "    \n",
    "    result.columns = ['n_reads', 'sample', 'spliced', 'unspliced', 'symbol', 'coSE']\n",
    "    return result"
   ]
  },
  {
   "cell_type": "code",
   "execution_count": 52,
   "metadata": {},
   "outputs": [],
   "source": [
    "# Group combined data by readname\n",
    "combined_by_read = []\n",
    "for df in combined_df:\n",
    "    combined_by_read.append(group_by_read(df))\n",
    "    \n",
    "df_by_read = pd.concat(combined_by_read)"
   ]
  },
  {
   "cell_type": "code",
   "execution_count": 53,
   "metadata": {},
   "outputs": [],
   "source": [
    "# Group uninduced and induced samples together\n",
    "df_by_read['sample'] = df_by_read['sample'].astype('string')\n",
    "df_by_read['treatment'] = pd.np.where(df_by_read['sample'].str.contains(\"untreated\"), \"Uninduced\", \"Induced\") # group by uninduced or DMSO string in sample name\n",
    "cat_type = CategoricalDtype(categories=['Uninduced', 'Induced'], ordered=True) # turn group column into a category variable in order to control order of plotting\n",
    "\n",
    "\n",
    "df_by_read['treatment'] = df_by_read['treatment'].astype(cat_type) "
   ]
  },
  {
   "cell_type": "code",
   "execution_count": 54,
   "metadata": {},
   "outputs": [
    {
     "data": {
      "image/png": "[encoded data removed]",
      "text/plain": [
       "<Figure size 300x600 with 1 Axes>"
      ]
     },
     "metadata": {},
     "output_type": "display_data"
    },
    {
     "data": {
      "text/plain": [
       "<ggplot: (8795255448217)>"
      ]
     },
     "execution_count": 54,
     "metadata": {},
     "output_type": "execute_result"
    }
   ],
   "source": [
    "# Plot number of reads by splicing status for treated and untreated conditions\n",
    "\n",
    "my_colours = ['#43006A', '#FBC17D', '#81176D']\n",
    "\n",
    "plt_status_number = (ggplot\n",
    "#      (data=df_by_read, mapping=aes( x='sample', fill = 'status' )) + \n",
    "     (data=df_by_read, mapping=aes(x='treatment', fill = 'status')) + \n",
    "      geom_bar(stat = 'count', position = 'stack', colour = 'black') +\n",
    "      theme_linedraw(base_size = 12) +\n",
    "      theme(axis_text_x=element_text(rotation=45, hjust=1)) +\n",
    "      theme(figure_size = (3,6)) +\n",
    "      xlab('Sample') +\n",
    "      ylab('Number of Reads') +\n",
    "#       ylim(0,85000) +\n",
    "#       scale_fill_brewer(palette = 'YlGnBu') +\n",
    "      scale_fill_manual(values = my_colours)\n",
    "    )\n",
    "\n",
    "plt_status_number"
   ]
  },
  {
   "cell_type": "code",
   "execution_count": 55,
   "metadata": {},
   "outputs": [
    {
     "name": "stdout",
     "output_type": "stream",
     "text": [
      "Number of unspliced introns total is 81407.0\n",
      "Number of spliced introns total is 603311.0\n",
      "Fraction spliced total is 0.8811087192099522\n",
      "\n",
      "\n",
      "Number of unspliced introns uninduced is 50764.0\n",
      "Number of spliced introns uninduced is 362075.0\n",
      "Fraction spliced uninduced is 0.8770368109602048\n",
      "\n",
      "\n",
      "Number of unspliced introns induced is 30643.0\n",
      "Number of spliced introns induced is 241236.0\n",
      "Fraction spliced induced is 0.8872917731785096\n"
     ]
    }
   ],
   "source": [
    "# calculate fraction of all considered introns that are spliced for each treatment condition and in total\n",
    "\n",
    "spliced = df_by_read['spliced_exact'].sum()\n",
    "unspliced = df_by_read['unspliced'].sum()\n",
    "\n",
    "fraction_spliced = spliced/(spliced+unspliced)\n",
    "\n",
    "print('Number of unspliced introns total is ' + str(float(unspliced)))\n",
    "print('Number of spliced introns total is ' + str(float(spliced)))\n",
    "print('Fraction spliced total is ' + str(float(fraction_spliced)))\n",
    "print('\\n')\n",
    "\n",
    "\n",
    "uninduced = df_by_read.loc[df_by_read['treatment'] == 'Uninduced']\n",
    "induced = df_by_read.loc[df_by_read['treatment'] == 'Induced']\n",
    "\n",
    "spliced_uninduced = uninduced['spliced_exact'].sum()\n",
    "unspliced_uninduced = uninduced['unspliced'].sum()\n",
    "\n",
    "fraction_spliced_uninduced = spliced_uninduced/(spliced_uninduced+unspliced_uninduced)\n",
    "\n",
    "print('Number of unspliced introns uninduced is ' + str(float(unspliced_uninduced)))\n",
    "print('Number of spliced introns uninduced is ' + str(float(spliced_uninduced)))\n",
    "print('Fraction spliced uninduced is ' + str(float(fraction_spliced_uninduced)))\n",
    "print('\\n')\n",
    "\n",
    "spliced_induced = induced['spliced_exact'].sum()\n",
    "unspliced_induced = induced['unspliced'].sum()\n",
    "\n",
    "fraction_spliced_induced = spliced_induced/(spliced_induced+unspliced_induced)\n",
    "\n",
    "print('Number of unspliced introns induced is ' + str(float(unspliced_induced)))\n",
    "print('Number of spliced introns induced is ' + str(float(spliced_induced)))\n",
    "print('Fraction spliced induced is ' + str(float(fraction_spliced_induced)))"
   ]
  },
  {
   "cell_type": "code",
   "execution_count": 56,
   "metadata": {},
   "outputs": [
    {
     "name": "stdout",
     "output_type": "stream",
     "text": [
      "Number of all spliced reads: 134581\n",
      "Number of all unspliced reads: 35982\n",
      "Number of partially spliced reads: 24102\n"
     ]
    }
   ],
   "source": [
    "# calculate number of reads by splicing status\n",
    "all_spliced_df = df_by_read.loc[df_by_read['status'] == 'all_spliced']\n",
    "all_unspliced_df = df_by_read.loc[df_by_read['status'] == 'all_unspliced']\n",
    "partially_spliced_df = df_by_read.loc[df_by_read['status'] == 'partially_spliced']\n",
    "\n",
    "print('Number of all spliced reads: ' + str(len(all_spliced_df)))\n",
    "print('Number of all unspliced reads: ' + str(len(all_unspliced_df)))\n",
    "print('Number of partially spliced reads: ' + str(len(partially_spliced_df)))"
   ]
  },
  {
   "cell_type": "code",
   "execution_count": 57,
   "metadata": {},
   "outputs": [
    {
     "data": {
      "text/html": [
       "<div>\n",
       "<style scoped>\n",
       "    .dataframe tbody tr th:only-of-type {\n",
       "        vertical-align: middle;\n",
       "    }\n",
       "\n",
       "    .dataframe tbody tr th {\n",
       "        vertical-align: top;\n",
       "    }\n",
       "\n",
       "    .dataframe thead th {\n",
       "        text-align: right;\n",
       "    }\n",
       "</style>\n",
       "<table border=\"1\" class=\"dataframe\">\n",
       "  <thead>\n",
       "    <tr style=\"text-align: right;\">\n",
       "      <th></th>\n",
       "      <th>treatment</th>\n",
       "      <th>splicing_status</th>\n",
       "      <th>count</th>\n",
       "      <th>total</th>\n",
       "      <th>fraction</th>\n",
       "    </tr>\n",
       "  </thead>\n",
       "  <tbody>\n",
       "    <tr>\n",
       "      <th>0</th>\n",
       "      <td>Uninduced</td>\n",
       "      <td>all_spliced</td>\n",
       "      <td>81714</td>\n",
       "      <td>120143</td>\n",
       "      <td>0.680140</td>\n",
       "    </tr>\n",
       "    <tr>\n",
       "      <th>1</th>\n",
       "      <td>Uninduced</td>\n",
       "      <td>partially_spliced</td>\n",
       "      <td>14716</td>\n",
       "      <td>120143</td>\n",
       "      <td>0.122487</td>\n",
       "    </tr>\n",
       "    <tr>\n",
       "      <th>2</th>\n",
       "      <td>Uninduced</td>\n",
       "      <td>all_unspliced</td>\n",
       "      <td>23713</td>\n",
       "      <td>120143</td>\n",
       "      <td>0.197373</td>\n",
       "    </tr>\n",
       "    <tr>\n",
       "      <th>3</th>\n",
       "      <td>Induced</td>\n",
       "      <td>all_spliced</td>\n",
       "      <td>52867</td>\n",
       "      <td>71639</td>\n",
       "      <td>0.737964</td>\n",
       "    </tr>\n",
       "    <tr>\n",
       "      <th>4</th>\n",
       "      <td>Induced</td>\n",
       "      <td>partially_spliced</td>\n",
       "      <td>9386</td>\n",
       "      <td>71639</td>\n",
       "      <td>0.131018</td>\n",
       "    </tr>\n",
       "    <tr>\n",
       "      <th>5</th>\n",
       "      <td>Induced</td>\n",
       "      <td>all_unspliced</td>\n",
       "      <td>9386</td>\n",
       "      <td>71639</td>\n",
       "      <td>0.131018</td>\n",
       "    </tr>\n",
       "  </tbody>\n",
       "</table>\n",
       "</div>"
      ],
      "text/plain": [
       "   treatment    splicing_status  count   total  fraction\n",
       "0  Uninduced        all_spliced  81714  120143  0.680140\n",
       "1  Uninduced  partially_spliced  14716  120143  0.122487\n",
       "2  Uninduced      all_unspliced  23713  120143  0.197373\n",
       "3    Induced        all_spliced  52867   71639  0.737964\n",
       "4    Induced  partially_spliced   9386   71639  0.131018\n",
       "5    Induced      all_unspliced   9386   71639  0.131018"
      ]
     },
     "execution_count": 57,
     "metadata": {},
     "output_type": "execute_result"
    }
   ],
   "source": [
    "all_spliced_uninduced = len((all_spliced_df[all_spliced_df['treatment'] == 'Uninduced']).index)\n",
    "partially_spliced_uninduced = len((partially_spliced_df[partially_spliced_df['treatment'] == 'Uninduced']).index)\n",
    "all_unspliced_uninduced = len((all_unspliced_df[all_unspliced_df['treatment'] == 'Uninduced']).index)\n",
    "\n",
    "all_spliced_induced = len((all_spliced_df[all_spliced_df['treatment'] == 'Induced']).index)\n",
    "partially_spliced_induced = len((partially_spliced_df[partially_spliced_df['treatment'] == 'Induced']).index)\n",
    "all_unspliced_induced = len((partially_spliced_df[partially_spliced_df['treatment'] == 'Induced']).index)\n",
    "\n",
    "total_uninduced = all_spliced_uninduced + partially_spliced_uninduced + all_unspliced_uninduced\n",
    "total_induced = all_spliced_induced + partially_spliced_induced + all_unspliced_induced\n",
    "\n",
    "data_list = [['Uninduced', 'all_spliced', all_spliced_uninduced, total_uninduced],\n",
    "             ['Uninduced', 'partially_spliced', partially_spliced_uninduced, total_uninduced],\n",
    "             ['Uninduced', 'all_unspliced', all_unspliced_uninduced, total_uninduced],\n",
    "             ['Induced', 'all_spliced', all_spliced_induced, total_induced],\n",
    "             ['Induced', 'partially_spliced', partially_spliced_induced, total_induced],\n",
    "             ['Induced', 'all_unspliced', all_unspliced_induced, total_induced]]\n",
    "\n",
    "# Create the pandas DataFrame \n",
    "df_splicing_status_fraction = pd.DataFrame(data_list, columns = ['treatment', 'splicing_status', 'count', 'total']) \n",
    "df_splicing_status_fraction['fraction'] = df_splicing_status_fraction['count']/df_splicing_status_fraction['total']\n",
    "\n",
    "cat_type = CategoricalDtype(categories=['Uninduced', 'Induced'], ordered=True) # turn group column into a category variable in order to control order of plotting\n",
    "df_splicing_status_fraction['treatment'] = df_splicing_status_fraction['treatment'].astype(cat_type)\n",
    "df_splicing_status_fraction"
   ]
  },
  {
   "cell_type": "code",
   "execution_count": 58,
   "metadata": {},
   "outputs": [
    {
     "data": {
      "image/png": "[encoded data removed]",
      "text/plain": [
       "<Figure size 300x600 with 1 Axes>"
      ]
     },
     "metadata": {},
     "output_type": "display_data"
    },
    {
     "data": {
      "text/plain": [
       "<ggplot: (8795255389337)>"
      ]
     },
     "execution_count": 58,
     "metadata": {},
     "output_type": "execute_result"
    }
   ],
   "source": [
    "# Plot fraction of reads by splicing status for treated and untreated conditions\n",
    "\n",
    "my_colours = ['#43006A', '#FBC17D', '#81176D']\n",
    "\n",
    "plt_status_fraction = (ggplot\n",
    "#      (data=df_by_read, mapping=aes( x='sample', fill = 'status' )) + \n",
    "     (data=df_splicing_status_fraction, mapping=aes(x='treatment', y='fraction', fill = 'splicing_status')) + \n",
    "      geom_bar(stat = 'identity', position = 'stack', colour = 'black') +\n",
    "      theme_linedraw(base_size = 12) +\n",
    "      theme(axis_text_x=element_text(rotation=45, hjust=1)) +\n",
    "      theme(figure_size = (3,6)) +\n",
    "      xlab('Sample') +\n",
    "      ylab('Fraction of Reads') +\n",
    "#       ylim(0,85000) +\n",
    "#       scale_fill_brewer(palette = 'YlGnBu') +\n",
    "      scale_fill_manual(values = my_colours)\n",
    "    )\n",
    "\n",
    "plt_status_fraction"
   ]
  },
  {
   "cell_type": "code",
   "execution_count": 59,
   "metadata": {},
   "outputs": [
    {
     "name": "stdout",
     "output_type": "stream",
     "text": [
      "querying 1-1000...done.\n",
      "querying 1001-2000...done.\n",
      "querying 2001-2198...done.\n",
      "Finished.\n",
      "querying 1-1000...done.\n",
      "querying 1001-2000...done.\n",
      "querying 2001-3000...done.\n",
      "querying 3001-4000...done.\n",
      "querying 4001-5000...done.\n",
      "querying 5001-6000...done.\n",
      "querying 6001-6659...done.\n",
      "Finished.\n",
      "2 input query terms found no hit:\n",
      "\t['ENSMUST00000216595', 'ENSMUST00000227473']\n",
      "Pass \"returnall=True\" to return complete lists of duplicate or missing query terms.\n",
      "querying 1-1000...done.\n",
      "querying 1001-2000...done.\n",
      "querying 2001-3000...done.\n",
      "querying 3001-3849...done.\n",
      "Finished.\n",
      "2 input query terms found no hit:\n",
      "\t['ENSMUST00000026900', 'ENSMUST00000227473']\n",
      "Pass \"returnall=True\" to return complete lists of duplicate or missing query terms.\n",
      "querying 1-1000...done.\n",
      "querying 1001-2000...done.\n",
      "querying 2001-3000...done.\n",
      "querying 3001-4000...done.\n",
      "querying 4001-5000...done.\n",
      "querying 5001-6000...done.\n",
      "querying 6001-7000...done.\n",
      "querying 7001-7646...done.\n",
      "Finished.\n",
      "4 input query terms found no hit:\n",
      "\t['ENSMUST00000026900', 'ENSMUST00000108981', 'ENSMUST00000216595', 'ENSMUST00000227473']\n",
      "Pass \"returnall=True\" to return complete lists of duplicate or missing query terms.\n",
      "querying 1-1000...done.\n",
      "querying 1001-1542...done.\n",
      "Finished.\n",
      "2 input query terms found no hit:\n",
      "\t['ENSMUST00000026900', 'ENSMUST00000108981']\n",
      "Pass \"returnall=True\" to return complete lists of duplicate or missing query terms.\n",
      "querying 1-1000...done.\n",
      "querying 1001-2000...done.\n",
      "querying 2001-3000...done.\n",
      "querying 3001-4000...done.\n",
      "querying 4001-5000...done.\n",
      "querying 5001-6000...done.\n",
      "querying 6001-6045...done.\n",
      "Finished.\n",
      "3 input query terms found no hit:\n",
      "\t['ENSMUST00000026900', 'ENSMUST00000216595', 'ENSMUST00000227473']\n",
      "Pass \"returnall=True\" to return complete lists of duplicate or missing query terms.\n",
      "querying 1-1000...done.\n",
      "querying 1001-2000...done.\n",
      "querying 2001-2130...done.\n",
      "Finished.\n",
      "2 input query terms found no hit:\n",
      "\t['ENSMUST00000026900', 'ENSMUST00000227473']\n",
      "Pass \"returnall=True\" to return complete lists of duplicate or missing query terms.\n",
      "querying 1-1000...done.\n",
      "querying 1001-2000...done.\n",
      "querying 2001-3000...done.\n",
      "querying 3001-4000...done.\n",
      "querying 4001-5000...done.\n",
      "querying 5001-6000...done.\n",
      "querying 6001-6424...done.\n",
      "Finished.\n",
      "3 input query terms found no hit:\n",
      "\t['ENSMUST00000026900', 'ENSMUST00000216595', 'ENSMUST00000227473']\n",
      "Pass \"returnall=True\" to return complete lists of duplicate or missing query terms.\n"
     ]
    }
   ],
   "source": [
    "# Group combined data by gene and calculate coSE\n",
    "combined_by_gene = []\n",
    "for df in combined_df:\n",
    "    combined_by_gene.append(group_by_gene(df))\n",
    "    \n",
    "df_by_gene = pd.concat(combined_by_gene)"
   ]
  },
  {
   "cell_type": "code",
   "execution_count": 60,
   "metadata": {},
   "outputs": [
    {
     "data": {
      "image/png": "[encoded data removed]",
      "text/plain": [
       "<Figure size 640x480 with 1 Axes>"
      ]
     },
     "metadata": {},
     "output_type": "display_data"
    },
    {
     "data": {
      "text/plain": [
       "<ggplot: (8795254092773)>"
      ]
     },
     "execution_count": 60,
     "metadata": {},
     "output_type": "execute_result"
    }
   ],
   "source": [
    "# Plot distribution of coSE values for each sample\n",
    "\n",
    "plt_cose_dist = (ggplot\n",
    "     (data=df_by_gene, mapping=aes( x='sample', y = 'coSE')) + \n",
    "      geom_violin() +\n",
    "      theme_linedraw(base_size = 12) +\n",
    "      theme(axis_text_x=element_text(rotation=45, hjust=1)) +\n",
    "      xlab('Sample') +\n",
    "      ylab('coSE Values')\n",
    "#       geom_jitter(height = 0, width = 0.1, alpha = 0.05)\n",
    "           )\n",
    "\n",
    "plt_cose_dist"
   ]
  },
  {
   "cell_type": "code",
   "execution_count": 61,
   "metadata": {},
   "outputs": [],
   "source": [
    "# Group uninduced and induced samples together\n",
    "df_by_gene['sample'] = df_by_gene['sample'].astype('string')\n",
    "df_by_gene['treatment'] = pd.np.where(df_by_gene['sample'].str.contains(\"untreated\"), \"Uninduced\", \"Induced\") # group by uninduced or DMSO string in sample name\n",
    "cat_type = CategoricalDtype(categories=['Uninduced', 'Induced'], ordered=True) # turn group column into a category variable in order to control order of plotting\n",
    "\n",
    "\n",
    "df_by_gene['treatment'] = df_by_gene['treatment'].astype(cat_type) "
   ]
  },
  {
   "cell_type": "code",
   "execution_count": 62,
   "metadata": {},
   "outputs": [],
   "source": [
    "# Split into two dataframes based on treatment, then group by gene and recalculate coSE\n",
    "df_uninduced = df_by_gene[df_by_gene['treatment'] == 'Uninduced']\n",
    "df_induced = df_by_gene[df_by_gene['treatment'] == 'Induced']\n",
    "\n",
    "df_uninduced_g = df_uninduced.groupby(['ensembl.gene']).agg({\n",
    "    'n_reads':'sum',\n",
    "    'spliced': 'sum',\n",
    "    'unspliced':'sum',\n",
    "    'treatment':'first',\n",
    "    'symbol':'first'\n",
    "})\n",
    "\n",
    "df_induced_g = df_induced.groupby(['ensembl.gene']).agg({\n",
    "    'n_reads':'sum',\n",
    "    'spliced': 'sum',\n",
    "    'unspliced':'sum',\n",
    "    'treatment':'first',\n",
    "    'symbol':'first'\n",
    "})\n",
    "\n",
    "df_uninduced_g['coSE'] = df_uninduced_g['spliced']/(df_uninduced_g['spliced'] + df_uninduced_g['unspliced'])\n",
    "df_induced_g['coSE'] = df_induced_g['spliced']/(df_induced_g['spliced'] + df_induced_g['unspliced'])\n",
    "\n",
    "df_uninduced_g.columns = ['n_reads_u', 'spliced_u', 'unspliced_u', 'treatment', 'symbol', 'coSE_u']\n",
    "df_induced_g.columns = ['n_reads_i', 'spliced_i', 'unspliced_i', 'treatment', 'symbol', 'coSE_i']"
   ]
  },
  {
   "cell_type": "code",
   "execution_count": 63,
   "metadata": {},
   "outputs": [
    {
     "name": "stdout",
     "output_type": "stream",
     "text": [
      "Number of genes with at least 10 reads in both conditions: 3680\n",
      "Number of genes with at least 5 reads in both conditions: 4911\n",
      "Number of genes with at least 3 reads in both conditions: 5697\n"
     ]
    }
   ],
   "source": [
    "# Combine dataframes by gene, keeping only rows which have reads in both treatment conditions\n",
    "\n",
    "by_gene_merged = pd.merge(df_uninduced_g, df_induced_g, how = 'inner', left_index = True, right_index = True, sort = False)\n",
    "cov_10 = by_gene_merged[(by_gene_merged['n_reads_u'] > 9) & (by_gene_merged['n_reads_i'] > 9)]\n",
    "cov_5 = by_gene_merged[(by_gene_merged['n_reads_u'] > 4) & (by_gene_merged['n_reads_i'] > 4)]\n",
    "cov_3 = by_gene_merged[(by_gene_merged['n_reads_u'] > 2) & (by_gene_merged['n_reads_i'] > 2)]\n",
    "\n",
    "print('Number of genes with at least 10 reads in both conditions: ' + str(len(cov_10.index)))\n",
    "print('Number of genes with at least 5 reads in both conditions: ' + str(len(cov_5.index)))\n",
    "print('Number of genes with at least 3 reads in both conditions: ' + str(len(cov_3.index)))"
   ]
  },
  {
   "cell_type": "code",
   "execution_count": 64,
   "metadata": {},
   "outputs": [],
   "source": [
    "# Remove rows that have a nan value\n",
    "cov_10 = cov_10.reset_index()\n",
    "keep = np.isnan(cov_10['coSE_i']) == False\n",
    "cov_10 = cov_10[keep]"
   ]
  },
  {
   "cell_type": "code",
   "execution_count": 66,
   "metadata": {},
   "outputs": [
    {
     "data": {
      "text/plain": [
       "3678"
      ]
     },
     "execution_count": 66,
     "metadata": {},
     "output_type": "execute_result"
    }
   ],
   "source": [
    "len(cov_10)"
   ]
  },
  {
   "cell_type": "code",
   "execution_count": 65,
   "metadata": {
    "scrolled": true
   },
   "outputs": [
    {
     "name": "stdout",
     "output_type": "stream",
     "text": [
      "R-value: 0.5752970056500079\n",
      "p-value: 3e-323\n"
     ]
    },
    {
     "data": {
      "image/png": "[encoded data removed]",
      "text/plain": [
       "<Figure size 640x644.156 with 1 Axes>"
      ]
     },
     "metadata": {},
     "output_type": "display_data"
    },
    {
     "data": {
      "text/plain": [
       "<ggplot: (8795252996853)>"
      ]
     },
     "execution_count": 65,
     "metadata": {},
     "output_type": "execute_result"
    }
   ],
   "source": [
    "# Plot coSE values comparing between uninduced and induced conditions\n",
    "\n",
    "# Calculate linear least-squares regression (second output [2] is correlation coefficient float)\n",
    "r_value, p_value = scipy.stats.pearsonr(x = cov_10['coSE_u'], y = cov_10['coSE_i'])\n",
    "# print(\"R-value: %f    R-squared: %f\" % (slope, r_value**2))\n",
    "print('R-value: ' + str(r_value))\n",
    "print('p-value: ' + str(p_value))\n",
    "\n",
    "plt_cose_scatter = (ggplot\n",
    "     (data=cov_10, mapping=aes( x='coSE_u', y = 'coSE_i')) + \n",
    "#       geom_text(label = R2) +\n",
    "      geom_point(alpha = 0.2) +\n",
    "#       geom_bin2d(binwidth = .01, drop = False) + #to fill in all grey background\n",
    "      scale_fill_cmap(name = 'magma') +\n",
    "      theme_linedraw(base_size = 12) +\n",
    "      theme(aspect_ratio = 1) +\n",
    "      xlab('Uninduced coSE Value') +\n",
    "      ylab('Induced coSE Value')\n",
    "           )\n",
    "      \n",
    "plt_cose_scatter"
   ]
  },
  {
   "cell_type": "code",
   "execution_count": 57,
   "metadata": {},
   "outputs": [
    {
     "name": "stdout",
     "output_type": "stream",
     "text": [
      "Fraction of genes with coSE > 0.9 is 0.3520935290918978\n"
     ]
    }
   ],
   "source": [
    "# Calcuate fraction of genes which have coSE > 0.9 in both conditions\n",
    "highcose = cov_10[(cov_10['coSE_u'] > 0.9) & (cov_10['coSE_i'] > 0.9)]\n",
    "n_highcose = len(highcose.index)\n",
    "n_cov_10 = len(cov_10.index)\n",
    "\n",
    "print('Fraction of genes with coSE > 0.9 is ' + str(n_highcose/n_cov_10))"
   ]
  },
  {
   "cell_type": "markdown",
   "metadata": {},
   "source": [
    "### Part 4: Save Outputs"
   ]
  },
  {
   "cell_type": "code",
   "execution_count": null,
   "metadata": {},
   "outputs": [],
   "source": [
    "# df_by_intron.to_csv('splicing_status_by_intron.csv',\n",
    "#                      sep = '\\t',\n",
    "#                      header = True,\n",
    "#                      index = False)"
   ]
  },
  {
   "cell_type": "code",
   "execution_count": 67,
   "metadata": {},
   "outputs": [],
   "source": [
    "# Write output files\n",
    "\n",
    "# Plots\n",
    "plt_status_number.save('splicing_status_combined_count.pdf')\n",
    "plt_status_fraction.save('splicing_status_combined_fraction.pdf')\n",
    "plt_cose_dist.save('cose_distributions.pdf')\n",
    "plt_cose_scatter.save('cose_scatter_uninduced_induced.pdf')\n",
    "\n",
    "# Data grouped by readname (for read splicing status)\n",
    "output_filename = \"combined_data_{window}_bp_window_splicing_status_counted.bed\".format(**locals()) # save filename with window as specified above\n",
    "out_cols = ['r_chr', 'r_start', 'r_end', 'r_name', 'r_score', 'r_strand', 'r_start', 'r_end', 'r_rgb', 'r_blocks', 'r_blockSizes', 'r_blockStarts', 'sample', 'spliced_exact', 'unspliced', 'total', 'status']\n",
    "out_col_names = ['chr', 'start', 'end', 'name', 'score', 'strand', 'thickStart', 'thickEnd', 'itemRgb', 'blockCount', 'blockSizes', 'blockStarts', 'sample', 'spliced_introns', 'unspliced_introns', 'total_introns', 'splicing_status']\n",
    "df_by_read.to_csv(output_filename, \n",
    "               sep = '\\t', \n",
    "               index = False,\n",
    "               columns = out_cols,   \n",
    "               header = out_col_names)\n",
    "\n",
    "# Data grouped by gene (for coSE values)\n",
    "by_gene_merged.to_csv('coSE_values_per_gene.txt', \n",
    "               sep = '\\t', \n",
    "               index = True, \n",
    "               header = True)"
   ]
  },
  {
   "cell_type": "code",
   "execution_count": 68,
   "metadata": {},
   "outputs": [],
   "source": [
    "# BED12 files of reads separated by splicing status\n",
    "all_spliced_out = all_spliced_df[['r_chr', 'r_start', 'r_end', 'r_name', 'r_score', 'r_strand', 'r_start', 'r_end', 'r_rgb', 'r_blocks', 'r_blockSizes', 'r_blockStarts', 'status', 'treatment']]\n",
    "all_unspliced_out = all_unspliced_df[['r_chr', 'r_start', 'r_end', 'r_name', 'r_score', 'r_strand', 'r_start', 'r_end', 'r_rgb', 'r_blocks', 'r_blockSizes', 'r_blockStarts', 'status', 'treatment']]\n",
    "partially_spliced_out = partially_spliced_df[['r_chr', 'r_start', 'r_end', 'r_name', 'r_score', 'r_strand', 'r_start', 'r_end', 'r_rgb', 'r_blocks', 'r_blockSizes', 'r_blockStarts', 'status', 'treatment']]\n",
    "\n",
    "bed12_out_cols = ['r_chr', 'r_start', 'r_end', 'r_name', 'r_score', 'r_strand', 'r_thickStart', 'r_thickEend', 'r_rgb', 'r_blocks', 'r_blockSizes', 'r_blockStarts', 'status', 'treatment']\n",
    "\n",
    "all_spliced_out.to_csv('all_spliced_reads.bed', \n",
    "               sep = '\\t', \n",
    "               index = False,\n",
    "#                columns = bed12_out_cols,   \n",
    "               header = False)\n",
    "\n",
    "all_unspliced_out.to_csv('all_unspliced_reads.bed', \n",
    "               sep = '\\t', \n",
    "               index = False,\n",
    "#                columns = bed12_out_cols,   \n",
    "               header = False)\n",
    "\n",
    "partially_spliced_out.to_csv('partially_spliced_reads.bed', \n",
    "               sep = '\\t', \n",
    "               index = False,\n",
    "#                columns = bed12_out_cols,   \n",
    "               header = False)"
   ]
  },
  {
   "cell_type": "code",
   "execution_count": 69,
   "metadata": {},
   "outputs": [],
   "source": [
    "# Generate two files (uninduced and induced) with reads coloured by splicing status\n",
    "\n",
    "# Read in all reads so these can be merged with splicing status classified reads\n",
    "allBEDfiles = [\n",
    "    '../1_filter_data/1_untreated_RSII_polyAfiltered_no_7SK_sorted_unique.bed',\n",
    "    '../1_filter_data/1_untreated_SQ_polyAfiltered_no_7SK_sorted_unique.bed',\n",
    "    '../1_filter_data/2_untreated_RSII_polyAfiltered_no_7SK_sorted_unique.bed',\n",
    "    '../1_filter_data/2_untreated_SQ_polyAfiltered_no_7SK_sorted_unique.bed',\n",
    "    '../1_filter_data/3_DMSO_RSII_polyAfiltered_no_7SK_sorted_unique.bed',\n",
    "    '../1_filter_data/3_DMSO_SQ_polyAfiltered_no_7SK_sorted_unique.bed',\n",
    "    '../1_filter_data/4_DMSO_RSII_polyAfiltered_no_7SK_sorted_unique.bed',\n",
    "    '../1_filter_data/4_DMSO_SQ_polyAfiltered_no_7SK_sorted_unique.bed'\n",
    "]\n",
    "\n",
    "all_reads = []\n",
    "for file in allBEDfiles:\n",
    "    bed12 = pd.read_csv(file, sep = '\\t', names = ['chr', 'start', 'end', 'name', 'score', 'strand', 'thickStart', 'thickEnd', 'rgb', 'blocks', 'blockSizes', 'blockStarts'])\n",
    "    treatment = file.split('/')[-1].split('_')[1] # get sample ID from file name\n",
    "    if treatment == 'DMSO':\n",
    "            bed12['condition'] = 'Induced'\n",
    "    if treatment == 'untreated':\n",
    "            bed12['condition'] = 'Uninduced'\n",
    "    all_reads.append(bed12)\n",
    "    \n",
    "allreads = pd.concat(all_reads)\n",
    "\n",
    "# read in classified reads\n",
    "allSpliced = pd.read_csv('all_spliced_reads.bed', sep = '\\t', names = ['chr', 'start', 'end', 'name', 'score', 'strand', 'thickStart', 'thickEnd', 'rgb', 'blocks', 'blockSizes', 'blockStarts', 'splicing_status', 'condition'])\n",
    "partiallySpliced = pd.read_csv('partially_spliced_reads.bed', sep = '\\t', names = ['chr', 'start', 'end', 'name', 'score', 'strand', 'thickStart', 'thickEnd', 'rgb', 'blocks', 'blockSizes', 'blockStarts', 'splicing_status', 'condition'])\n",
    "allUnspliced = pd.read_csv('all_unspliced_reads.bed', sep = '\\t', names = ['chr', 'start', 'end', 'name', 'score', 'strand', 'thickStart', 'thickEnd', 'rgb', 'blocks', 'blockSizes', 'blockStarts', 'splicing_status', 'condition'])\n",
    "status_classified = pd.concat([allSpliced, partiallySpliced, allUnspliced])\n",
    "\n",
    "# merge the two dataframes so that reads that are unclassified get NaN status\n",
    "all_reads_status_classified = pd.merge(allreads, \n",
    "                                       status_classified[['name', 'splicing_status']],\n",
    "                                       left_on = ['name'],\n",
    "                                       right_on = ['name'],\n",
    "                                       how = 'left')\n",
    "\n",
    "# assign rbg colour based on splicing status classification\n",
    "all_reads_status_classified['splicing_status'] = all_reads_status_classified['splicing_status'].astype('str')\n",
    "all_reads_status_classified.loc[all_reads_status_classified.splicing_status == 'all_spliced', 'rgb'] = '67,0,106'\n",
    "all_reads_status_classified.loc[all_reads_status_classified.splicing_status == 'partially_spliced', 'rgb'] = '129,23,109'\n",
    "all_reads_status_classified.loc[all_reads_status_classified.splicing_status == 'all_unspliced', 'rgb'] = '251,193,125'\n",
    "all_reads_status_classified.loc[all_reads_status_classified.splicing_status == 'nan', 'rgb'] = '97,100,99'\n",
    "\n",
    "# separate by induced/uninduced\n",
    "uninduced_coloured = all_reads_status_classified.loc[all_reads_status_classified['condition'] == 'Uninduced']\n",
    "induced_coloured = all_reads_status_classified.loc[all_reads_status_classified['condition'] == 'Induced']\n",
    "\n",
    "# write two BED12 files as output to open in IGV and make figures\n",
    "uninduced_coloured.to_csv('uninduced_coloured.bed', \n",
    "               sep = '\\t', \n",
    "               index = False,\n",
    "               header = False)\n",
    "induced_coloured.to_csv('induced_coloured.bed', \n",
    "               sep = '\\t', \n",
    "               index = False,\n",
    "               header = False)"
   ]
  },
  {
   "cell_type": "code",
   "execution_count": 231,
   "metadata": {},
   "outputs": [],
   "source": [
    "# # BAM files of reads separated by splicing status (for downstream metagene coverage)\n",
    "\n",
    "# # Get readnames that are all_spliced, all_unspliced, partially_spliced and save as lists\n",
    "# all_spliced_readnames = df_by_read.loc[df_by_read['status'] == 'all_spliced', 'r_name'].tolist()\n",
    "# all_unspliced_readnames = df_by_read.loc[df_by_read['status'] == 'all_unspliced', 'r_name'].tolist()\n",
    "# partially_spliced_readnames = df_by_read.loc[df_by_read['status'] == 'partially_spliced', 'r_name'].tolist()\n",
    "\n",
    "# # Combine BAM files from all samples of filtered reads to separate by splicing stauts\n",
    "# pysam.merge('combined_all_reads.bam', \n",
    "#           '../1_filter_data/1_untreated_RSII_polyAfiltered_no_7SK_sorted.bam', \n",
    "#           '../1_filter_data/1_untreated_SQ_polyAfiltered_no_7SK_sorted.bam',\n",
    "#           '../1_filter_data/2_untreated_RSII_polyAfiltered_no_7SK_sorted.bam',\n",
    "#           '../1_filter_data/2_untreated_SQ_polyAfiltered_no_7SK_sorted.bam',\n",
    "#           '../1_filter_data/3_DMSO_RSII_polyAfiltered_no_7SK_sorted.bam',\n",
    "#           '../1_filter_data/3_DMSO_SQ_polyAfiltered_no_7SK_sorted.bam',\n",
    "#           '../1_filter_data/4_DMSO_RSII_polyAfiltered_no_7SK_sorted.bam',\n",
    "#           '../1_filter_data/4_DMSO_SQ_polyAfiltered_no_7SK_sorted.bam',\n",
    "#           catch_stdout=False)\n",
    "\n",
    "# pysam.merge('combined_untreated_reads.bam', \n",
    "#           '../1_filter_data/1_untreated_RSII_polyAfiltered_no_7SK_sorted.bam', \n",
    "#           '../1_filter_data/1_untreated_SQ_polyAfiltered_no_7SK_sorted.bam',\n",
    "#           '../1_filter_data/2_untreated_RSII_polyAfiltered_no_7SK_sorted.bam',\n",
    "#           '../1_filter_data/2_untreated_SQ_polyAfiltered_no_7SK_sorted.bam',\n",
    "#           catch_stdout=False)\n",
    "\n",
    "# pysam.merge('combined_dmso_reads.bam', \n",
    "#           '../1_filter_data/3_DMSO_RSII_polyAfiltered_no_7SK_sorted.bam',\n",
    "#           '../1_filter_data/3_DMSO_SQ_polyAfiltered_no_7SK_sorted.bam',\n",
    "#           '../1_filter_data/4_DMSO_RSII_polyAfiltered_no_7SK_sorted.bam',\n",
    "#           '../1_filter_data/4_DMSO_SQ_polyAfiltered_no_7SK_sorted.bam',\n",
    "#           catch_stdout=False)\n",
    "\n",
    "# pysam.sort('-o', 'combined_untreated_reads_sorted.bam', 'combined_untreated_reads.bam', catch_stdout=False)\n",
    "# pysam.index('combined_untreated_reads_sorted.bam', catch_stdout=False)\n",
    "\n",
    "# pysam.sort('-o', 'combined_dmso_reads_sorted.bam', 'combined_dmso_reads.bam', catch_stdout=False)\n",
    "# pysam.index('combined_dmso_reads_sorted.bam', catch_stdout=False)\n",
    "\n",
    "# pysam.sort('-o', 'combined_all_reads_sorted.bam', 'combined_all_reads.bam', catch_stdout=False)\n",
    "# pysam.index('combined_all_reads_sorted.bam', catch_stdout=False)"
   ]
  },
  {
   "cell_type": "code",
   "execution_count": 152,
   "metadata": {},
   "outputs": [],
   "source": [
    "# def separate_read_by_splicing_status(bamfile):\n",
    "#     bam_in = pysam.AlignmentFile(bamfile, \"rb\")\n",
    "    \n",
    "#     all_spliced = pysam.AlignmentFile('all_spliced_reads_combined.bam', \"wb\", template = bam_in)\n",
    "#     all_unspliced = pysam.AlignmentFile('all_unspliced_reads_combined.bam', \"wb\", template = bam_in)\n",
    "#     partially_spliced = pysam.AlignmentFile('partially_spliced_reads_combined.bam', \"wb\", template = bam_in)\n",
    "    \n",
    "#     for read in bam_in:\n",
    "        \n",
    "#         rname = read.query_name\n",
    "        \n",
    "#         if rname in all_spliced_readnames:\n",
    "#             all_spliced.write(read)\n",
    "#         if rname in all_unspliced_readnames:\n",
    "#             all_unspliced.write(read)\n",
    "#         if rname in partially_spliced_readnames:\n",
    "#             partially_spliced.write(read)\n",
    "    \n",
    "#     bam_in.close()\n",
    "#     all_spliced.close()\n",
    "#     all_unspliced.close()\n",
    "#     partially_spliced.close()"
   ]
  },
  {
   "cell_type": "code",
   "execution_count": 153,
   "metadata": {},
   "outputs": [],
   "source": [
    "# Save separated BAM files\n",
    "# NOTE: THIS TAKES A VERY LONG TIME BUT IT WORKS\n",
    "# separate_read_by_splicing_status('combined_all_reads_sorted.bam')"
   ]
  }
 ],
 "metadata": {
  "kernelspec": {
   "display_name": "Python 3",
   "language": "python",
   "name": "python3"
  },
  "language_info": {
   "codemirror_mode": {
    "name": "ipython",
    "version": 3
   },
   "file_extension": ".py",
   "mimetype": "text/x-python",
   "name": "python",
   "nbconvert_exporter": "python",
   "pygments_lexer": "ipython3",
   "version": "3.7.6"
  }
 },
 "nbformat": 4,
 "nbformat_minor": 4
}
